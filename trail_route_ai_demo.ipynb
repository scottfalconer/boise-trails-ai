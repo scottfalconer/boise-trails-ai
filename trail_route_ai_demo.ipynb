{
  "nbformat": 4,
  "nbformat_minor": 0,
  "metadata": {
    "colab": {
      "provenance": [],
      "authorship_tag": "ABX9TyOy7N054XTV1gcbzGk5M24X",
      "include_colab_link": true
    },
    "kernelspec": {
      "name": "python3",
      "display_name": "Python 3"
    },
    "language_info": {
      "name": "python"
    }
  },
  "cells": [
    {
      "cell_type": "markdown",
      "source": "# Trail Route AI Demo Notebook",
      "metadata": {
        "id": "1"
      }
    },
    {
      "cell_type": "markdown",
      "source": "This notebook demonstrates the basic functionality of the Trail Route AI project, including installing dependencies, clipping road data, and generating a trail schedule.",
      "metadata": {
        "id": "2"
      }
    },
    {
      "cell_type": "markdown",
      "source": "## 1. Setup and Installation",
      "metadata": {
        "id": "3"
      }
    },
    {
      "cell_type": "code",
      "source": "# Clone the repository (replace with actual URL if different)\n# !git clone YOUR_REPO_URL\n# %cd YOUR_REPO_URL\n\n# Install dependencies\n!pip install -r requirements.txt\n\n# Install geopandas and pyrosm\n!pip install geopandas pyrosm\n\n# Install the current package\n!pip install .",
      "metadata": {
        "id": "4"
      },
      "execution_count": null,
      "outputs": []
    },
    {
      "cell_type": "markdown",
      "source": "## 2. Download Data for Street Map Clipping",
      "metadata": {
        "id": "5"
      }
    },
    {
      "cell_type": "markdown",
      "source": "We need an OpenStreetMap (OSM) PBF (Protocolbuffer Binary Format) file to extract road data. We will download the Idaho PBF from Geofabrik.",
      "metadata": {
        "id": "6"
      }
    },
    {
      "cell_type": "code",
      "source": "import os\n# Create a directory for PBF data if it doesn't exist\nos.makedirs(\"pbf_data\", exist_ok=True)\n!wget https://download.geofabrik.de/north-america/us/idaho-latest.osm.pbf -O pbf_data/idaho-latest.osm.pbf",
      "metadata": {
        "id": "7"
      },
      "execution_count": null,
      "outputs": []
    },
    {
      "cell_type": "markdown",
      "source": "The trail data (`data/traildata/GETChallengeTrailData_v2.json`) is already available in the cloned repository.",
      "metadata": {
        "id": "8"
      }
    },
    {
      "cell_type": "markdown",
      "source": "## 3. Use OSM Road Data Directly",
      "metadata": {
        "id": "9"
      }
    },
    {
      "cell_type": "markdown",
      "source": "The planner reads necessary road connectors directly from the OSM PBF downloaded above, so no clipping step is required.",
      "metadata": {
        "id": "10"
      }
    },
    {
      "cell_type": "markdown",
      "source": "",
      "metadata": {
        "id": "11"
      },
    },
    {
      "cell_type": "markdown",
      "source": "",
      "metadata": {
        "id": "12"
      }
    },
    {
      "cell_type": "markdown",
      "source": "## 4. Prepare Data for Challenge Planner",
      "metadata": {
        "id": "13"
      }
    },
    {
      "cell_type": "markdown",
      "source": "The `challenge_planner.py` script uses two main data inputs:\n- `data/traildata/GETChallengeTrailData_v2.json`: This file contains the trail network data and is available from the cloned repository.\n- `data/segment_perf.csv`: This optional file is used to mark segments that have already been completed. It contains 'year' and 'seg_id' columns.",
      "metadata": {
        "id": "14"
      }
    },
    {
      "cell_type": "markdown",
      "source": "For this demo, we will create an empty `segment_perf.csv` file. This means all trail segments will be considered as not yet completed by the planner.",
      "metadata": {
        "id": "15"
      }
    },
    {
      "cell_type": "code",
      "source": "import csv\nimport os\n\n# Create the data directory if it doesn't exist (it should, from git clone)\nos.makedirs(\"data\", exist_ok=True)\n\n# Create an empty segment_perf.csv with headers\nwith open(\"data/segment_perf.csv\", \"w\", newline=\"\") as f:\n    writer = csv.writer(f)\n    writer.writerow([\"year\", \"seg_id\"])\nprint(\"Created dummy data/segment_perf.csv\")",
      "metadata": {
        "id": "16"
      },
      "execution_count": null,
      "outputs": []
    },
    {
      "cell_type": "markdown",
      "source": "## 5. Run Challenge Planner (`challenge_planner.py`)",
      "metadata": {
        "id": "17"
      }
    },
    {
      "cell_type": "markdown",
      "source": "This script generates a schedule of trail segments to cover based on specified parameters such as available dates, time per session, pace, and grade preferences. It prioritizes uncompleted segments.",
      "metadata": {
        "id": "18"
      }
    },
    {
      "cell_type": "code",
      "source": "import os\n# Create a directory for GPX output\nos.makedirs(\"gpx_output_colab\", exist_ok=True)\n\n!python src/trail_route_ai/challenge_planner.py \\\n    --start-date \"2024-07-01\" \\\n    --end-date \"2024-07-07\" \\\n    --time \"120\" \\\n    --pace \"10\" \\\n    --grade \"30\" \\\n    --segments \"data/traildata/GETChallengeTrailData_v2.json\" \\\n    --perf \"data/segment_perf.csv\" \\\n    --year \"2024\" \\\n    --output \"challenge_plan_output.csv\" \\\n    --gpx-dir \"gpx_output_colab\"\n    --roads \"pbf_data/idaho-latest.osm.pbf\" \\",
      "metadata": {
        "id": "19"
      },
      "execution_count": null,
      "outputs": []
    },
    {
      "cell_type": "markdown",
      "source": "The script will generate a `challenge_plan_output.csv` file with the planned schedule.\nIt will also create GPX files for each day's route in the `gpx_output_colab` directory.\nYou can inspect the CSV output and download GPX files from the Colab file browser (usually found in the left sidebar).",
      "metadata": {
        "id": "20"
      }
    },
    {
      "cell_type": "markdown",
      "source": "## 6. Conclusion",
      "metadata": {
        "id": "21"
      }
    },
    {
      "cell_type": "markdown",
      "source": "This notebook walked through setting up the environment, downloading necessary data, loading the full road dataset, preparing data for the challenge planner, and finally generating a trail running schedule (`challenge_planner.py`).\n\nYou can now explore the generated `challenge_plan_output.csv` and the GPX files in the `gpx_output_colab` directory. Feel free to modify the parameters in the code cells (e.g., dates, time per session, pace) and re-run the notebook to experiment further with the Trail Route AI planner.",
      "metadata": {
        "id": "22"
      }
    }
  ]
}
